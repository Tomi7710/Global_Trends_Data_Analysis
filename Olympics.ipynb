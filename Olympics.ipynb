{
 "cells": [
  {
   "cell_type": "markdown",
   "id": "08f659e6",
   "metadata": {},
   "source": [
    "# Introduction"
   ]
  },
  {
   "cell_type": "markdown",
   "id": "364e964b",
   "metadata": {},
   "source": [
    "This is a data analysis project focused on the modern Olympic Games, from Athens 1896 to Rio 2016. Each row consists of an individual athlete competing in an Olympic event for a specific country and which medal was won (if any). I want to explore the dataset to determine which year and city the Netherlands won the highest number of medals in their history. I will also create a plot visualizing the relationship between the number of athletes countries send to an event and the number of medals they receive. The libraries used in this notebook include pandas for data reading, cleaning and preparation; MatPlotlib and seaborn for data visualisation. "
   ]
  },
  {
   "cell_type": "markdown",
   "id": "c89e2e65",
   "metadata": {},
   "source": [
    "# 1. Importing Libraries"
   ]
  },
  {
   "cell_type": "code",
   "execution_count": null,
   "id": "b515df48",
   "metadata": {},
   "outputs": [],
   "source": [
    "import pandas as pd\n",
    "import matplotlib.pyplot as plt\n",
    "import seaborn as sns"
   ]
  },
  {
   "cell_type": "markdown",
   "id": "dc593da3",
   "metadata": {},
   "source": [
    "## Importing dataset"
   ]
  },
  {
   "cell_type": "code",
   "execution_count": 13,
   "id": "7bc8a4e7",
   "metadata": {},
   "outputs": [
    {
     "name": "stdout",
     "output_type": "stream",
     "text": [
      "            ID                      Name Sex   Age  Height  Weight  \\\n",
      "0            1                 A Dijiang   M  24.0   180.0    80.0   \n",
      "1            2                  A Lamusi   M  23.0   170.0    60.0   \n",
      "2            3       Gunnar Nielsen Aaby   M  24.0     NaN     NaN   \n",
      "3            4      Edgar Lindenau Aabye   M  34.0     NaN     NaN   \n",
      "4            5  Christine Jacoba Aaftink   F  21.0   185.0    82.0   \n",
      "...        ...                       ...  ..   ...     ...     ...   \n",
      "271111  135569                Andrzej ya   M  29.0   179.0    89.0   \n",
      "271112  135570                  Piotr ya   M  27.0   176.0    59.0   \n",
      "271113  135570                  Piotr ya   M  27.0   176.0    59.0   \n",
      "271114  135571        Tomasz Ireneusz ya   M  30.0   185.0    96.0   \n",
      "271115  135571        Tomasz Ireneusz ya   M  34.0   185.0    96.0   \n",
      "\n",
      "                  Team  NOC        Games  Year  Season            City  \\\n",
      "0                China  CHN  1992 Summer  1992  Summer       Barcelona   \n",
      "1                China  CHN  2012 Summer  2012  Summer          London   \n",
      "2              Denmark  DEN  1920 Summer  1920  Summer       Antwerpen   \n",
      "3       Denmark/Sweden  DEN  1900 Summer  1900  Summer           Paris   \n",
      "4          Netherlands  NED  1988 Winter  1988  Winter         Calgary   \n",
      "...                ...  ...          ...   ...     ...             ...   \n",
      "271111        Poland-1  POL  1976 Winter  1976  Winter       Innsbruck   \n",
      "271112          Poland  POL  2014 Winter  2014  Winter           Sochi   \n",
      "271113          Poland  POL  2014 Winter  2014  Winter           Sochi   \n",
      "271114          Poland  POL  1998 Winter  1998  Winter          Nagano   \n",
      "271115          Poland  POL  2002 Winter  2002  Winter  Salt Lake City   \n",
      "\n",
      "                Sport                                     Event Medal  \n",
      "0          Basketball               Basketball Men's Basketball   NaN  \n",
      "1                Judo              Judo Men's Extra-Lightweight   NaN  \n",
      "2            Football                   Football Men's Football   NaN  \n",
      "3          Tug-Of-War               Tug-Of-War Men's Tug-Of-War  Gold  \n",
      "4       Speed Skating          Speed Skating Women's 500 metres   NaN  \n",
      "...               ...                                       ...   ...  \n",
      "271111           Luge                Luge Mixed (Men)'s Doubles   NaN  \n",
      "271112    Ski Jumping  Ski Jumping Men's Large Hill, Individual   NaN  \n",
      "271113    Ski Jumping        Ski Jumping Men's Large Hill, Team   NaN  \n",
      "271114      Bobsleigh                      Bobsleigh Men's Four   NaN  \n",
      "271115      Bobsleigh                      Bobsleigh Men's Four   NaN  \n",
      "\n",
      "[271116 rows x 15 columns]\n"
     ]
    }
   ],
   "source": [
    "athlete_events= pd.read_csv(\"Desktop/athlete_events.csv\")\n",
    "print(athlete_events)"
   ]
  },
  {
   "cell_type": "markdown",
   "id": "487cab26",
   "metadata": {},
   "source": [
    "# Data Information"
   ]
  },
  {
   "cell_type": "markdown",
   "id": "432f0f22",
   "metadata": {},
   "source": [
    "The olympics dataset is a historical dataset which contains 271116 rows and 15 columns of information regarding olympic athletes with respect to country, age, height, wieght, year, event, sport, medals and other variables."
   ]
  },
  {
   "cell_type": "markdown",
   "id": "81f9d530",
   "metadata": {},
   "source": [
    "### Data Dictionary"
   ]
  },
  {
   "cell_type": "markdown",
   "id": "22203c7e",
   "metadata": {},
   "source": [
    "Each column has a unique meaning. Find detailed explanations for each column below;\n",
    "\n",
    "id\tUnique number for each athlete\n",
    "name\tAthlete's name\n",
    "sex\tM or F\n",
    "age\tAge of the athlete\n",
    "height\tIn centimeters\n",
    "weight\tIn kilograms\n",
    "team\tTeam name\n",
    "noc\tNational Olympic Committee 3\n",
    "games\tYear and season\n",
    "year\tInteger\n",
    "season\tSummer or Winter\n",
    "city\tHost city\n",
    "sport\tSport\n",
    "event\tEvent\n",
    "medal\tGold, Silver, Bronze, or NA"
   ]
  },
  {
   "cell_type": "code",
   "execution_count": 3,
   "id": "97d98565",
   "metadata": {},
   "outputs": [
    {
     "data": {
      "text/plain": [
       "(271116, 15)"
      ]
     },
     "execution_count": 3,
     "metadata": {},
     "output_type": "execute_result"
    }
   ],
   "source": [
    "athlete_events.shape"
   ]
  },
  {
   "cell_type": "code",
   "execution_count": 4,
   "id": "d622fd2c",
   "metadata": {},
   "outputs": [
    {
     "name": "stdout",
     "output_type": "stream",
     "text": [
      "<class 'pandas.core.frame.DataFrame'>\n",
      "RangeIndex: 271116 entries, 0 to 271115\n",
      "Data columns (total 15 columns):\n",
      " #   Column  Non-Null Count   Dtype  \n",
      "---  ------  --------------   -----  \n",
      " 0   ID      271116 non-null  int64  \n",
      " 1   Name    271116 non-null  object \n",
      " 2   Sex     271116 non-null  object \n",
      " 3   Age     261642 non-null  float64\n",
      " 4   Height  210945 non-null  float64\n",
      " 5   Weight  208241 non-null  float64\n",
      " 6   Team    271116 non-null  object \n",
      " 7   NOC     271116 non-null  object \n",
      " 8   Games   271116 non-null  object \n",
      " 9   Year    271116 non-null  int64  \n",
      " 10  Season  271116 non-null  object \n",
      " 11  City    271116 non-null  object \n",
      " 12  Sport   271116 non-null  object \n",
      " 13  Event   271116 non-null  object \n",
      " 14  Medal   39783 non-null   object \n",
      "dtypes: float64(3), int64(2), object(10)\n",
      "memory usage: 31.0+ MB\n"
     ]
    }
   ],
   "source": [
    "athlete_events.info()"
   ]
  },
  {
   "cell_type": "code",
   "execution_count": 5,
   "id": "e7a4ecac",
   "metadata": {},
   "outputs": [
    {
     "data": {
      "text/html": [
       "<div>\n",
       "<style scoped>\n",
       "    .dataframe tbody tr th:only-of-type {\n",
       "        vertical-align: middle;\n",
       "    }\n",
       "\n",
       "    .dataframe tbody tr th {\n",
       "        vertical-align: top;\n",
       "    }\n",
       "\n",
       "    .dataframe thead th {\n",
       "        text-align: right;\n",
       "    }\n",
       "</style>\n",
       "<table border=\"1\" class=\"dataframe\">\n",
       "  <thead>\n",
       "    <tr style=\"text-align: right;\">\n",
       "      <th></th>\n",
       "      <th>ID</th>\n",
       "      <th>Age</th>\n",
       "      <th>Height</th>\n",
       "      <th>Weight</th>\n",
       "      <th>Year</th>\n",
       "    </tr>\n",
       "  </thead>\n",
       "  <tbody>\n",
       "    <tr>\n",
       "      <th>count</th>\n",
       "      <td>271116.000000</td>\n",
       "      <td>261642.000000</td>\n",
       "      <td>210945.000000</td>\n",
       "      <td>208241.000000</td>\n",
       "      <td>271116.000000</td>\n",
       "    </tr>\n",
       "    <tr>\n",
       "      <th>mean</th>\n",
       "      <td>68248.954396</td>\n",
       "      <td>25.556898</td>\n",
       "      <td>175.338970</td>\n",
       "      <td>70.702393</td>\n",
       "      <td>1978.378480</td>\n",
       "    </tr>\n",
       "    <tr>\n",
       "      <th>std</th>\n",
       "      <td>39022.286345</td>\n",
       "      <td>6.393561</td>\n",
       "      <td>10.518462</td>\n",
       "      <td>14.348020</td>\n",
       "      <td>29.877632</td>\n",
       "    </tr>\n",
       "    <tr>\n",
       "      <th>min</th>\n",
       "      <td>1.000000</td>\n",
       "      <td>10.000000</td>\n",
       "      <td>127.000000</td>\n",
       "      <td>25.000000</td>\n",
       "      <td>1896.000000</td>\n",
       "    </tr>\n",
       "    <tr>\n",
       "      <th>25%</th>\n",
       "      <td>34643.000000</td>\n",
       "      <td>21.000000</td>\n",
       "      <td>168.000000</td>\n",
       "      <td>60.000000</td>\n",
       "      <td>1960.000000</td>\n",
       "    </tr>\n",
       "    <tr>\n",
       "      <th>50%</th>\n",
       "      <td>68205.000000</td>\n",
       "      <td>24.000000</td>\n",
       "      <td>175.000000</td>\n",
       "      <td>70.000000</td>\n",
       "      <td>1988.000000</td>\n",
       "    </tr>\n",
       "    <tr>\n",
       "      <th>75%</th>\n",
       "      <td>102097.250000</td>\n",
       "      <td>28.000000</td>\n",
       "      <td>183.000000</td>\n",
       "      <td>79.000000</td>\n",
       "      <td>2002.000000</td>\n",
       "    </tr>\n",
       "    <tr>\n",
       "      <th>max</th>\n",
       "      <td>135571.000000</td>\n",
       "      <td>97.000000</td>\n",
       "      <td>226.000000</td>\n",
       "      <td>214.000000</td>\n",
       "      <td>2016.000000</td>\n",
       "    </tr>\n",
       "  </tbody>\n",
       "</table>\n",
       "</div>"
      ],
      "text/plain": [
       "                  ID            Age         Height         Weight  \\\n",
       "count  271116.000000  261642.000000  210945.000000  208241.000000   \n",
       "mean    68248.954396      25.556898     175.338970      70.702393   \n",
       "std     39022.286345       6.393561      10.518462      14.348020   \n",
       "min         1.000000      10.000000     127.000000      25.000000   \n",
       "25%     34643.000000      21.000000     168.000000      60.000000   \n",
       "50%     68205.000000      24.000000     175.000000      70.000000   \n",
       "75%    102097.250000      28.000000     183.000000      79.000000   \n",
       "max    135571.000000      97.000000     226.000000     214.000000   \n",
       "\n",
       "                Year  \n",
       "count  271116.000000  \n",
       "mean     1978.378480  \n",
       "std        29.877632  \n",
       "min      1896.000000  \n",
       "25%      1960.000000  \n",
       "50%      1988.000000  \n",
       "75%      2002.000000  \n",
       "max      2016.000000  "
      ]
     },
     "execution_count": 5,
     "metadata": {},
     "output_type": "execute_result"
    }
   ],
   "source": [
    "athlete_events.describe()"
   ]
  },
  {
   "cell_type": "code",
   "execution_count": 6,
   "id": "0dade592",
   "metadata": {},
   "outputs": [
    {
     "data": {
      "text/html": [
       "<div>\n",
       "<style scoped>\n",
       "    .dataframe tbody tr th:only-of-type {\n",
       "        vertical-align: middle;\n",
       "    }\n",
       "\n",
       "    .dataframe tbody tr th {\n",
       "        vertical-align: top;\n",
       "    }\n",
       "\n",
       "    .dataframe thead th {\n",
       "        text-align: right;\n",
       "    }\n",
       "</style>\n",
       "<table border=\"1\" class=\"dataframe\">\n",
       "  <thead>\n",
       "    <tr style=\"text-align: right;\">\n",
       "      <th></th>\n",
       "      <th>ID</th>\n",
       "      <th>Name</th>\n",
       "      <th>Sex</th>\n",
       "      <th>Age</th>\n",
       "      <th>Height</th>\n",
       "      <th>Weight</th>\n",
       "      <th>Team</th>\n",
       "      <th>NOC</th>\n",
       "      <th>Games</th>\n",
       "      <th>Year</th>\n",
       "      <th>Season</th>\n",
       "      <th>City</th>\n",
       "      <th>Sport</th>\n",
       "      <th>Event</th>\n",
       "      <th>Medal</th>\n",
       "    </tr>\n",
       "  </thead>\n",
       "  <tbody>\n",
       "    <tr>\n",
       "      <th>0</th>\n",
       "      <td>1</td>\n",
       "      <td>A Dijiang</td>\n",
       "      <td>M</td>\n",
       "      <td>24.0</td>\n",
       "      <td>180.0</td>\n",
       "      <td>80.0</td>\n",
       "      <td>China</td>\n",
       "      <td>CHN</td>\n",
       "      <td>1992 Summer</td>\n",
       "      <td>1992</td>\n",
       "      <td>Summer</td>\n",
       "      <td>Barcelona</td>\n",
       "      <td>Basketball</td>\n",
       "      <td>Basketball Men's Basketball</td>\n",
       "      <td>NaN</td>\n",
       "    </tr>\n",
       "    <tr>\n",
       "      <th>1</th>\n",
       "      <td>2</td>\n",
       "      <td>A Lamusi</td>\n",
       "      <td>M</td>\n",
       "      <td>23.0</td>\n",
       "      <td>170.0</td>\n",
       "      <td>60.0</td>\n",
       "      <td>China</td>\n",
       "      <td>CHN</td>\n",
       "      <td>2012 Summer</td>\n",
       "      <td>2012</td>\n",
       "      <td>Summer</td>\n",
       "      <td>London</td>\n",
       "      <td>Judo</td>\n",
       "      <td>Judo Men's Extra-Lightweight</td>\n",
       "      <td>NaN</td>\n",
       "    </tr>\n",
       "    <tr>\n",
       "      <th>2</th>\n",
       "      <td>3</td>\n",
       "      <td>Gunnar Nielsen Aaby</td>\n",
       "      <td>M</td>\n",
       "      <td>24.0</td>\n",
       "      <td>NaN</td>\n",
       "      <td>NaN</td>\n",
       "      <td>Denmark</td>\n",
       "      <td>DEN</td>\n",
       "      <td>1920 Summer</td>\n",
       "      <td>1920</td>\n",
       "      <td>Summer</td>\n",
       "      <td>Antwerpen</td>\n",
       "      <td>Football</td>\n",
       "      <td>Football Men's Football</td>\n",
       "      <td>NaN</td>\n",
       "    </tr>\n",
       "    <tr>\n",
       "      <th>3</th>\n",
       "      <td>4</td>\n",
       "      <td>Edgar Lindenau Aabye</td>\n",
       "      <td>M</td>\n",
       "      <td>34.0</td>\n",
       "      <td>NaN</td>\n",
       "      <td>NaN</td>\n",
       "      <td>Denmark/Sweden</td>\n",
       "      <td>DEN</td>\n",
       "      <td>1900 Summer</td>\n",
       "      <td>1900</td>\n",
       "      <td>Summer</td>\n",
       "      <td>Paris</td>\n",
       "      <td>Tug-Of-War</td>\n",
       "      <td>Tug-Of-War Men's Tug-Of-War</td>\n",
       "      <td>Gold</td>\n",
       "    </tr>\n",
       "    <tr>\n",
       "      <th>4</th>\n",
       "      <td>5</td>\n",
       "      <td>Christine Jacoba Aaftink</td>\n",
       "      <td>F</td>\n",
       "      <td>21.0</td>\n",
       "      <td>185.0</td>\n",
       "      <td>82.0</td>\n",
       "      <td>Netherlands</td>\n",
       "      <td>NED</td>\n",
       "      <td>1988 Winter</td>\n",
       "      <td>1988</td>\n",
       "      <td>Winter</td>\n",
       "      <td>Calgary</td>\n",
       "      <td>Speed Skating</td>\n",
       "      <td>Speed Skating Women's 500 metres</td>\n",
       "      <td>NaN</td>\n",
       "    </tr>\n",
       "  </tbody>\n",
       "</table>\n",
       "</div>"
      ],
      "text/plain": [
       "   ID                      Name Sex   Age  Height  Weight            Team  \\\n",
       "0   1                 A Dijiang   M  24.0   180.0    80.0           China   \n",
       "1   2                  A Lamusi   M  23.0   170.0    60.0           China   \n",
       "2   3       Gunnar Nielsen Aaby   M  24.0     NaN     NaN         Denmark   \n",
       "3   4      Edgar Lindenau Aabye   M  34.0     NaN     NaN  Denmark/Sweden   \n",
       "4   5  Christine Jacoba Aaftink   F  21.0   185.0    82.0     Netherlands   \n",
       "\n",
       "   NOC        Games  Year  Season       City          Sport  \\\n",
       "0  CHN  1992 Summer  1992  Summer  Barcelona     Basketball   \n",
       "1  CHN  2012 Summer  2012  Summer     London           Judo   \n",
       "2  DEN  1920 Summer  1920  Summer  Antwerpen       Football   \n",
       "3  DEN  1900 Summer  1900  Summer      Paris     Tug-Of-War   \n",
       "4  NED  1988 Winter  1988  Winter    Calgary  Speed Skating   \n",
       "\n",
       "                              Event Medal  \n",
       "0       Basketball Men's Basketball   NaN  \n",
       "1      Judo Men's Extra-Lightweight   NaN  \n",
       "2           Football Men's Football   NaN  \n",
       "3       Tug-Of-War Men's Tug-Of-War  Gold  \n",
       "4  Speed Skating Women's 500 metres   NaN  "
      ]
     },
     "execution_count": 6,
     "metadata": {},
     "output_type": "execute_result"
    }
   ],
   "source": [
    "athlete_events.head()"
   ]
  },
  {
   "cell_type": "markdown",
   "id": "8a9b87ce",
   "metadata": {},
   "source": [
    "# 2. Data Preparation and Data Cleaning"
   ]
  },
  {
   "cell_type": "markdown",
   "id": "64bf91d8",
   "metadata": {},
   "source": [
    "The dataset contains a lot of information. Data cleaning was implemented to prepare the data for analysis."
   ]
  },
  {
   "cell_type": "markdown",
   "id": "588a350c",
   "metadata": {},
   "source": [
    "### Checking for columns with missing values"
   ]
  },
  {
   "cell_type": "code",
   "execution_count": 7,
   "id": "f86714ea",
   "metadata": {},
   "outputs": [
    {
     "data": {
      "text/plain": [
       "ID             0\n",
       "Name           0\n",
       "Sex            0\n",
       "Age         9474\n",
       "Height     60171\n",
       "Weight     62875\n",
       "Team           0\n",
       "NOC            0\n",
       "Games          0\n",
       "Year           0\n",
       "Season         0\n",
       "City           0\n",
       "Sport          0\n",
       "Event          0\n",
       "Medal     231333\n",
       "dtype: int64"
      ]
     },
     "execution_count": 7,
     "metadata": {},
     "output_type": "execute_result"
    }
   ],
   "source": [
    "#Let's identify all columns with null values\n",
    "athlete_events.isnull().sum()"
   ]
  },
  {
   "cell_type": "markdown",
   "id": "2fac9e66",
   "metadata": {},
   "source": [
    "From the above dataset we can see that the columns of height, weight and medal have null values. The medal column has the highest number of null values with 231333 rows out of 271116 rows of dataset. The null values of the medal column will remain as such because only those who are the top three winners get a medal. This means not all athletes will get a medal, therefore some athletes will win no medal. The values of the age, weight and height will also not affect my analysis."
   ]
  },
  {
   "cell_type": "markdown",
   "id": "847a0069",
   "metadata": {},
   "source": [
    "### Removing duplicate rows"
   ]
  },
  {
   "cell_type": "code",
   "execution_count": 8,
   "id": "06368477",
   "metadata": {},
   "outputs": [],
   "source": [
    "#Drop duplicate rows in this dataset\n",
    "athlete_events.drop_duplicates(inplace=True)"
   ]
  },
  {
   "cell_type": "markdown",
   "id": "8ce2d1cf",
   "metadata": {},
   "source": [
    "In this case, I removed all duplicate values because duplicated rows can impact our analysis."
   ]
  },
  {
   "cell_type": "code",
   "execution_count": 9,
   "id": "e49e4a91",
   "metadata": {},
   "outputs": [
    {
     "name": "stdout",
     "output_type": "stream",
     "text": [
      "            ID                      Name Sex   Age  Height  Weight  \\\n",
      "0            1                 A Dijiang   M  24.0   180.0    80.0   \n",
      "1            2                  A Lamusi   M  23.0   170.0    60.0   \n",
      "2            3       Gunnar Nielsen Aaby   M  24.0     NaN     NaN   \n",
      "3            4      Edgar Lindenau Aabye   M  34.0     NaN     NaN   \n",
      "4            5  Christine Jacoba Aaftink   F  21.0   185.0    82.0   \n",
      "...        ...                       ...  ..   ...     ...     ...   \n",
      "271111  135569                Andrzej ya   M  29.0   179.0    89.0   \n",
      "271112  135570                  Piotr ya   M  27.0   176.0    59.0   \n",
      "271113  135570                  Piotr ya   M  27.0   176.0    59.0   \n",
      "271114  135571        Tomasz Ireneusz ya   M  30.0   185.0    96.0   \n",
      "271115  135571        Tomasz Ireneusz ya   M  34.0   185.0    96.0   \n",
      "\n",
      "                  Team  NOC        Games  Year  Season            City  \\\n",
      "0                China  CHN  1992 Summer  1992  Summer       Barcelona   \n",
      "1                China  CHN  2012 Summer  2012  Summer          London   \n",
      "2              Denmark  DEN  1920 Summer  1920  Summer       Antwerpen   \n",
      "3       Denmark/Sweden  DEN  1900 Summer  1900  Summer           Paris   \n",
      "4          Netherlands  NED  1988 Winter  1988  Winter         Calgary   \n",
      "...                ...  ...          ...   ...     ...             ...   \n",
      "271111        Poland-1  POL  1976 Winter  1976  Winter       Innsbruck   \n",
      "271112          Poland  POL  2014 Winter  2014  Winter           Sochi   \n",
      "271113          Poland  POL  2014 Winter  2014  Winter           Sochi   \n",
      "271114          Poland  POL  1998 Winter  1998  Winter          Nagano   \n",
      "271115          Poland  POL  2002 Winter  2002  Winter  Salt Lake City   \n",
      "\n",
      "                Sport                                     Event Medal  \n",
      "0          Basketball               Basketball Men's Basketball   NaN  \n",
      "1                Judo              Judo Men's Extra-Lightweight   NaN  \n",
      "2            Football                   Football Men's Football   NaN  \n",
      "3          Tug-Of-War               Tug-Of-War Men's Tug-Of-War  Gold  \n",
      "4       Speed Skating          Speed Skating Women's 500 metres   NaN  \n",
      "...               ...                                       ...   ...  \n",
      "271111           Luge                Luge Mixed (Men)'s Doubles   NaN  \n",
      "271112    Ski Jumping  Ski Jumping Men's Large Hill, Individual   NaN  \n",
      "271113    Ski Jumping        Ski Jumping Men's Large Hill, Team   NaN  \n",
      "271114      Bobsleigh                      Bobsleigh Men's Four   NaN  \n",
      "271115      Bobsleigh                      Bobsleigh Men's Four   NaN  \n",
      "\n",
      "[269731 rows x 15 columns]\n"
     ]
    }
   ],
   "source": [
    "print(athlete_events)"
   ]
  },
  {
   "cell_type": "markdown",
   "id": "a4a76796",
   "metadata": {},
   "source": [
    "# 3. Exploring Data"
   ]
  },
  {
   "cell_type": "markdown",
   "id": "d5920450",
   "metadata": {},
   "source": [
    "### In which year and city did the Netherlands win the highest number of medals in their history?"
   ]
  },
  {
   "cell_type": "markdown",
   "id": "3b9a32ef",
   "metadata": {},
   "source": [
    "To create a dataframe of team Netherlands, the dataset was filtered to contain only rows with information on the Netherlands team based on year, city and medal."
   ]
  },
  {
   "cell_type": "code",
   "execution_count": 16,
   "id": "7fa54aaa",
   "metadata": {},
   "outputs": [
    {
     "name": "stdout",
     "output_type": "stream",
     "text": [
      "        Year         City   Medal\n",
      "4       1988      Calgary     NaN\n",
      "5       1988      Calgary     NaN\n",
      "6       1992  Albertville     NaN\n",
      "7       1992  Albertville     NaN\n",
      "8       1994  Lillehammer     NaN\n",
      "...      ...          ...     ...\n",
      "271047  1988        Seoul     NaN\n",
      "271048  1992    Barcelona  Bronze\n",
      "271049  1996      Atlanta    Gold\n",
      "271050  1998       Nagano     NaN\n",
      "271051  1998       Nagano     NaN\n",
      "\n",
      "[5718 rows x 3 columns]\n"
     ]
    }
   ],
   "source": [
    "#Create a subset of the Netherlands team that includes only specific columns\n",
    "netherlands_team = athlete_events.loc[(athlete_events[\"Team\"] == \"Netherlands\"), [\"Year\", \"City\", \"Medal\"]]\n",
    "print(netherlands_team)"
   ]
  },
  {
   "cell_type": "markdown",
   "id": "741f3b50",
   "metadata": {},
   "source": [
    "We want to determine the number of medals the Netherlands team won. Lets remove rows where they have no medal and subset for rows where they at least won a medal."
   ]
  },
  {
   "cell_type": "code",
   "execution_count": 18,
   "id": "444d6b39",
   "metadata": {},
   "outputs": [
    {
     "name": "stdout",
     "output_type": "stream",
     "text": [
      "        Year            City   Medal\n",
      "91      1988           Seoul  Bronze\n",
      "92      1996         Atlanta  Silver\n",
      "1227    2012          London  Bronze\n",
      "1228    2016  Rio de Janeiro  Silver\n",
      "2099    2008         Beijing    Gold\n",
      "...      ...             ...     ...\n",
      "271015  1992       Barcelona  Silver\n",
      "271016  1996         Atlanta    Gold\n",
      "271032  1996         Atlanta  Bronze\n",
      "271048  1992       Barcelona  Bronze\n",
      "271049  1996         Atlanta    Gold\n",
      "\n",
      "[988 rows x 3 columns]\n"
     ]
    }
   ],
   "source": [
    "#create a subset that contains data where athletes from Netherlands won at least a medal\n",
    "netherlands_medal = netherlands_team[(netherlands_team[\"Medal\"] == \"Gold\") | (netherlands_team[\"Medal\"] == \"Silver\") | (netherlands_team[\"Medal\"] == \"Bronze\")]\n",
    "print(netherlands_medal)"
   ]
  },
  {
   "cell_type": "markdown",
   "id": "9d888769",
   "metadata": {},
   "source": [
    "To find the highest number of medals team Netherlands won based on year and city, We need to first collect information on the number of medals won per year in each city."
   ]
  },
  {
   "cell_type": "code",
   "execution_count": 20,
   "id": "fb29e49e",
   "metadata": {},
   "outputs": [
    {
     "name": "stdout",
     "output_type": "stream",
     "text": [
      "Year  City            Medal \n",
      "1900  Paris           Bronze     6\n",
      "1906  Athina          Bronze     5\n",
      "                      Silver     1\n",
      "1908  London          Bronze    12\n",
      "1912  Stockholm       Bronze    26\n",
      "                                ..\n",
      "2014  Sochi           Bronze     9\n",
      "                      Silver     7\n",
      "2016  Rio de Janeiro  Silver    25\n",
      "                      Bronze    11\n",
      "                      Gold       9\n",
      "Name: Medal, Length: 105, dtype: int64\n"
     ]
    }
   ],
   "source": [
    "#create a dataframe of the number of medals with respect to year and city\n",
    "nb_medals = netherlands_medal.groupby([\"Year\", \"City\"])[\"Medal\"].value_counts()\n",
    "print(nb_medals)"
   ]
  },
  {
   "cell_type": "code",
   "execution_count": 19,
   "id": "532b7395",
   "metadata": {},
   "outputs": [
    {
     "name": "stdout",
     "output_type": "stream",
     "text": [
      "Year  City          \n",
      "1900  Paris              6\n",
      "1906  Athina             6\n",
      "1908  London            12\n",
      "1912  Stockholm         26\n",
      "1920  Antwerpen         42\n",
      "1924  Paris             24\n",
      "1928  Amsterdam         51\n",
      "1932  Los Angeles       13\n",
      "1936  Berlin            34\n",
      "1948  London            40\n",
      "1952  Helsinki          18\n",
      "      Oslo               3\n",
      "1960  Roma               3\n",
      "      Squaw Valley       2\n",
      "1964  Innsbruck          2\n",
      "      Tokyo             31\n",
      "1968  Grenoble           9\n",
      "      Mexico City       14\n",
      "1972  Munich             6\n",
      "      Sapporo            9\n",
      "1976  Innsbruck          6\n",
      "      Montreal          14\n",
      "1980  Lake Placid        4\n",
      "      Moskva             6\n",
      "1984  Los Angeles       41\n",
      "1988  Calgary            7\n",
      "      Seoul             45\n",
      "1992  Albertville        4\n",
      "      Barcelona         33\n",
      "1994  Lillehammer        4\n",
      "1996  Atlanta           73\n",
      "1998  Nagano            11\n",
      "2000  Sydney            79\n",
      "2002  Salt Lake City     8\n",
      "2004  Athina            77\n",
      "2006  Torino            13\n",
      "2008  Beijing           58\n",
      "2010  Vancouver         11\n",
      "2012  London            69\n",
      "2014  Sochi             29\n",
      "2016  Rio de Janeiro    45\n",
      "Name: Medal, dtype: int64\n"
     ]
    }
   ],
   "source": [
    "#view the total number of medals for each city based on the year\n",
    "total_nb_medals = netherlands_medal.groupby([\"Year\", \"City\"])[\"Medal\"].count()\n",
    "print(total_nb_medals)"
   ]
  },
  {
   "cell_type": "code",
   "execution_count": 21,
   "id": "288ec2c8",
   "metadata": {},
   "outputs": [
    {
     "data": {
      "text/plain": [
       "Year  City          \n",
       "2000  Sydney            79\n",
       "2004  Athina            77\n",
       "1996  Atlanta           73\n",
       "2012  London            69\n",
       "2008  Beijing           58\n",
       "1928  Amsterdam         51\n",
       "1988  Seoul             45\n",
       "2016  Rio de Janeiro    45\n",
       "1920  Antwerpen         42\n",
       "1984  Los Angeles       41\n",
       "1948  London            40\n",
       "1936  Berlin            34\n",
       "1992  Barcelona         33\n",
       "1964  Tokyo             31\n",
       "2014  Sochi             29\n",
       "1912  Stockholm         26\n",
       "1924  Paris             24\n",
       "1952  Helsinki          18\n",
       "1968  Mexico City       14\n",
       "1976  Montreal          14\n",
       "1932  Los Angeles       13\n",
       "2006  Torino            13\n",
       "1908  London            12\n",
       "2010  Vancouver         11\n",
       "1998  Nagano            11\n",
       "1968  Grenoble           9\n",
       "1972  Sapporo            9\n",
       "2002  Salt Lake City     8\n",
       "1988  Calgary            7\n",
       "1900  Paris              6\n",
       "1980  Moskva             6\n",
       "1906  Athina             6\n",
       "1972  Munich             6\n",
       "1976  Innsbruck          6\n",
       "1994  Lillehammer        4\n",
       "1992  Albertville        4\n",
       "1980  Lake Placid        4\n",
       "1960  Roma               3\n",
       "1952  Oslo               3\n",
       "1964  Innsbruck          2\n",
       "1960  Squaw Valley       2\n",
       "Name: Medal, dtype: int64"
      ]
     },
     "execution_count": 21,
     "metadata": {},
     "output_type": "execute_result"
    }
   ],
   "source": [
    "#sort the values from the highest to lowest number of medals won, grouped by year and city\n",
    "total_nb_medals.sort_values(ascending=False)"
   ]
  },
  {
   "cell_type": "markdown",
   "id": "f85ec399",
   "metadata": {},
   "source": [
    "### From the observation above, we can see that the Netherlands team won the highest number of medals in Sydney in the year 2000 with 79 medals in total. Therefore, in the history of the netherlands they won their highest number of medals in Sydney in the year 2000."
   ]
  },
  {
   "cell_type": "markdown",
   "id": "b23fb283",
   "metadata": {},
   "source": [
    "# 4. Data Visualization"
   ]
  },
  {
   "cell_type": "markdown",
   "id": "b589db32",
   "metadata": {},
   "source": [
    "### Visualizing the relationship between the number of athletes countries send to an event and the number of medals they receive"
   ]
  },
  {
   "cell_type": "markdown",
   "id": "109c2030",
   "metadata": {},
   "source": [
    "Here, we are going to create a plot that shows the relationship between the number of athletes per event for each country and the number of medals won per event for each country"
   ]
  },
  {
   "cell_type": "markdown",
   "id": "b11c1b45",
   "metadata": {},
   "source": [
    "\n",
    "Let's determine the number of athletes with respect to events for each country\n"
   ]
  },
  {
   "cell_type": "code",
   "execution_count": 22,
   "id": "79624863",
   "metadata": {},
   "outputs": [
    {
     "name": "stdout",
     "output_type": "stream",
     "text": [
      "Team                   Event                              Name                                                \n",
      "30. Februar            Sailing Mixed Two Person Keelboat  Harald Fereberger                                       1\n",
      "                                                          Harald von Musil                                        1\n",
      "A North American Team  Polo Men's Polo                    Jos Eustaquio Luis Francisco Escandn y Barrn            1\n",
      "                                                          Jos Manuel Mara del Corazn de Jess Escandn y Barrn      1\n",
      "                                                          Jos Pablo Eustaquio Manuel Francisco Escandn y Barrn    1\n",
      "                                                                                                                 ..\n",
      "rn-2                   Sailing Mixed 8 metres             Axel Gustaf Estlander                                   1\n",
      "                                                          Bertel Jusln                                            1\n",
      "                                                          Carl-Oscar Girsn                                        1\n",
      "                                                          Curt Magnus Wilhelm Andstn                              1\n",
      "                                                          Jarl Oskar Wilhelm Andstn                               1\n",
      "Name: Name, Length: 210649, dtype: int64\n"
     ]
    }
   ],
   "source": [
    "#group the dataframe by team and event and count the athletes\n",
    "athlete_per_event = athlete_events.groupby([\"Team\", \"Event\"])[\"Name\"].value_counts()\n",
    "print(athlete_per_event)"
   ]
  },
  {
   "cell_type": "code",
   "execution_count": 23,
   "id": "eecefe73",
   "metadata": {},
   "outputs": [
    {
     "name": "stdout",
     "output_type": "stream",
     "text": [
      "Team                   Event                              \n",
      "30. Februar            Sailing Mixed Two Person Keelboat      2\n",
      "A North American Team  Polo Men's Polo                        4\n",
      "Acipactli              Sailing Mixed Three Person Keelboat    3\n",
      "Acturus                Sailing Mixed Two Person Keelboat      2\n",
      "Afghanistan            Athletics Men's 100 metres             7\n",
      "                                                             ..\n",
      "Zimbabwe               Tennis Women's Singles                 4\n",
      "                       Triathlon Men's Olympic Distance       3\n",
      "                       Weightlifting Men's Heavyweight I      1\n",
      "Zut                    Sailing Mixed 6 metres                 3\n",
      "rn-2                   Sailing Mixed 8 metres                 5\n",
      "Name: Name, Length: 29619, dtype: int64\n"
     ]
    }
   ],
   "source": [
    "#print out the total number of athletes based on event per country\n",
    "total_nb_athlete_per_event = athlete_events.groupby([\"Team\", \"Event\"])[\"Name\"].count()\n",
    "print(total_nb_athlete_per_event)"
   ]
  },
  {
   "cell_type": "markdown",
   "id": "a5ee4200",
   "metadata": {},
   "source": [
    "Lets determine the number of medals athletes recieve for each event based on their country"
   ]
  },
  {
   "cell_type": "code",
   "execution_count": 24,
   "id": "9e42a4d7",
   "metadata": {},
   "outputs": [
    {
     "name": "stdout",
     "output_type": "stream",
     "text": [
      "Team                   Event                                          Medal \n",
      "A North American Team  Polo Men's Polo                                Bronze    4\n",
      "Afghanistan            Taekwondo Men's Featherweight                  Bronze    1\n",
      "                       Taekwondo Men's Flyweight                      Bronze    1\n",
      "Algeria                Athletics Men's 1,500 metres                   Gold      2\n",
      "                                                                      Silver    1\n",
      "                                                                               ..\n",
      "Zimbabwe               Swimming Women's 200 metres Backstroke         Gold      2\n",
      "                       Swimming Women's 200 metres Individual Medley  Bronze    1\n",
      "                                                                      Silver    1\n",
      "                       Swimming Women's 400 metres Individual Medley  Silver    1\n",
      "Zut                    Sailing Mixed 6 metres                         Silver    3\n",
      "Name: Medal, Length: 11473, dtype: int64\n"
     ]
    }
   ],
   "source": [
    "#group the dataframe by team and event and count the number of medals athletes won for their team at each event\n",
    "medals_per_event = athlete_events.groupby([\"Team\", \"Event\"])[\"Medal\"].value_counts()\n",
    "print(medals_per_event)"
   ]
  },
  {
   "cell_type": "code",
   "execution_count": 25,
   "id": "5eae06fc",
   "metadata": {},
   "outputs": [
    {
     "name": "stdout",
     "output_type": "stream",
     "text": [
      "Team                   Event                              \n",
      "30. Februar            Sailing Mixed Two Person Keelboat      0\n",
      "A North American Team  Polo Men's Polo                        4\n",
      "Acipactli              Sailing Mixed Three Person Keelboat    0\n",
      "Acturus                Sailing Mixed Two Person Keelboat      0\n",
      "Afghanistan            Athletics Men's 100 metres             0\n",
      "                                                             ..\n",
      "Zimbabwe               Tennis Women's Singles                 0\n",
      "                       Triathlon Men's Olympic Distance       0\n",
      "                       Weightlifting Men's Heavyweight I      0\n",
      "Zut                    Sailing Mixed 6 metres                 3\n",
      "rn-2                   Sailing Mixed 8 metres                 0\n",
      "Name: Medal, Length: 29619, dtype: int64\n"
     ]
    }
   ],
   "source": [
    "#print out the total number of medals for each event\n",
    "total_medals_per_event = athlete_events.groupby([\"Team\", \"Event\"])[\"Medal\"].count()\n",
    "print(total_medals_per_event)"
   ]
  },
  {
   "cell_type": "code",
   "execution_count": 26,
   "id": "ef2a6839",
   "metadata": {},
   "outputs": [
    {
     "name": "stdout",
     "output_type": "stream",
     "text": [
      "                  Team                                     Event\n",
      "0                China               Basketball Men's Basketball\n",
      "1                China              Judo Men's Extra-Lightweight\n",
      "2              Denmark                   Football Men's Football\n",
      "3       Denmark/Sweden               Tug-Of-War Men's Tug-Of-War\n",
      "4          Netherlands          Speed Skating Women's 500 metres\n",
      "...                ...                                       ...\n",
      "271111        Poland-1                Luge Mixed (Men)'s Doubles\n",
      "271112          Poland  Ski Jumping Men's Large Hill, Individual\n",
      "271113          Poland        Ski Jumping Men's Large Hill, Team\n",
      "271114          Poland                      Bobsleigh Men's Four\n",
      "271115          Poland                      Bobsleigh Men's Four\n",
      "\n",
      "[271116 rows x 2 columns]\n"
     ]
    }
   ],
   "source": [
    "#create a dataframe showing the events countries participated in\n",
    "event_by_country= athlete_events.loc[:, [\"Team\", \"Event\"]]\n",
    "print(event_by_country)"
   ]
  },
  {
   "cell_type": "code",
   "execution_count": 27,
   "id": "e34b6d8d",
   "metadata": {},
   "outputs": [
    {
     "name": "stdout",
     "output_type": "stream",
     "text": [
      "                  Team                                     Event  \\\n",
      "0                China               Basketball Men's Basketball   \n",
      "1                China              Judo Men's Extra-Lightweight   \n",
      "2              Denmark                   Football Men's Football   \n",
      "3       Denmark/Sweden               Tug-Of-War Men's Tug-Of-War   \n",
      "4          Netherlands          Speed Skating Women's 500 metres   \n",
      "...                ...                                       ...   \n",
      "271111        Poland-1                Luge Mixed (Men)'s Doubles   \n",
      "271112          Poland  Ski Jumping Men's Large Hill, Individual   \n",
      "271113          Poland        Ski Jumping Men's Large Hill, Team   \n",
      "271114          Poland                      Bobsleigh Men's Four   \n",
      "271115          Poland                      Bobsleigh Men's Four   \n",
      "\n",
      "        number_of_athletes  \n",
      "0                      130  \n",
      "1                        6  \n",
      "2                      136  \n",
      "3                        6  \n",
      "4                       39  \n",
      "...                    ...  \n",
      "271111                   8  \n",
      "271112                  45  \n",
      "271113                  20  \n",
      "271114                  20  \n",
      "271115                  20  \n",
      "\n",
      "[271116 rows x 3 columns]\n"
     ]
    }
   ],
   "source": [
    "#create a new column for the count values of the number of athletes per event\n",
    "event_by_country[\"number_of_athletes\"] = athlete_events.groupby([\"Team\", \"Event\"])[\"Name\"].transform(\"count\")\n",
    "print(event_by_country)\n"
   ]
  },
  {
   "cell_type": "code",
   "execution_count": 28,
   "id": "52f5db2d",
   "metadata": {},
   "outputs": [
    {
     "name": "stdout",
     "output_type": "stream",
     "text": [
      "                  Team                                     Event  \\\n",
      "0                China               Basketball Men's Basketball   \n",
      "1                China              Judo Men's Extra-Lightweight   \n",
      "2              Denmark                   Football Men's Football   \n",
      "3       Denmark/Sweden               Tug-Of-War Men's Tug-Of-War   \n",
      "4          Netherlands          Speed Skating Women's 500 metres   \n",
      "...                ...                                       ...   \n",
      "271111        Poland-1                Luge Mixed (Men)'s Doubles   \n",
      "271112          Poland  Ski Jumping Men's Large Hill, Individual   \n",
      "271113          Poland        Ski Jumping Men's Large Hill, Team   \n",
      "271114          Poland                      Bobsleigh Men's Four   \n",
      "271115          Poland                      Bobsleigh Men's Four   \n",
      "\n",
      "        number_of_athletes  number_of_medals  \n",
      "0                      130                 0  \n",
      "1                        6                 0  \n",
      "2                      136                65  \n",
      "3                        6                 6  \n",
      "4                       39                 1  \n",
      "...                    ...               ...  \n",
      "271111                   8                 0  \n",
      "271112                  45                 4  \n",
      "271113                  20                 0  \n",
      "271114                  20                 0  \n",
      "271115                  20                 0  \n",
      "\n",
      "[271116 rows x 4 columns]\n"
     ]
    }
   ],
   "source": [
    "#create a new column for the count values of the number of medals won \n",
    "event_by_country[\"number_of_medals\"] = athlete_events.groupby([\"Team\", \"Event\"])[\"Medal\"].transform(\"count\")\n",
    "print(event_by_country)\n"
   ]
  },
  {
   "cell_type": "markdown",
   "id": "1dc855c9",
   "metadata": {},
   "source": [
    "To visualise the relationship between the number of athletes and number of medals for each country we use seaborn to plot the data"
   ]
  },
  {
   "cell_type": "code",
   "execution_count": 29,
   "id": "80f9289c",
   "metadata": {},
   "outputs": [
    {
     "data": {
      "image/png": "[encoded data removed]",
      "text/plain": [
       "<Figure size 640x480 with 1 Axes>"
      ]
     },
     "metadata": {},
     "output_type": "display_data"
    }
   ],
   "source": [
    "#create a scatterplot showing the number of medals and number of athletes\n",
    "import seaborn as sns\n",
    "sns.scatterplot(x=\"number_of_medals\", y=\"number_of_athletes\", data=event_by_country)\n",
    "plt.title(\"Number of athletes vs Number of medals per country\")\n",
    "plt.show()"
   ]
  },
  {
   "cell_type": "markdown",
   "id": "ebaee3f5",
   "metadata": {},
   "source": [
    "### The data points cluster in the lower left corner, indicating that most countries send relatively few athletes and win few medals. However, as the number of athletes increases, the number of medals also tends to rise. This suggests a positive relationship between team size and medal count across countries. "
   ]
  }
 ],
 "metadata": {
  "kernelspec": {
   "display_name": "Python 3 (ipykernel)",
   "language": "python",
   "name": "python3"
  },
  "language_info": {
   "codemirror_mode": {
    "name": "ipython",
    "version": 3
   },
   "file_extension": ".py",
   "mimetype": "text/x-python",
   "name": "python",
   "nbconvert_exporter": "python",
   "pygments_lexer": "ipython3",
   "version": "3.9.13"
  }
 },
 "nbformat": 4,
 "nbformat_minor": 5
}
